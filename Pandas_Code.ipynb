{
  "nbformat": 4,
  "nbformat_minor": 0,
  "metadata": {
    "colab": {
      "provenance": [],
      "authorship_tag": "ABX9TyPIlJ+eRfrC+4R0zi1hS71C",
      "include_colab_link": true
    },
    "kernelspec": {
      "name": "python3",
      "display_name": "Python 3"
    },
    "language_info": {
      "name": "python"
    }
  },
  "cells": [
    {
      "cell_type": "markdown",
      "metadata": {
        "id": "view-in-github",
        "colab_type": "text"
      },
      "source": [
        "<a href=\"https://colab.research.google.com/github/krzysztof-siedlecki/Pandas_Basics/blob/main/Pandas_Code.ipynb\" target=\"_parent\"><img src=\"https://colab.research.google.com/assets/colab-badge.svg\" alt=\"Open In Colab\"/></a>"
      ]
    },
    {
      "cell_type": "code",
      "execution_count": 3,
      "metadata": {
        "id": "_gehzgeeNggc"
      },
      "outputs": [],
      "source": [
        "import pandas as pd\n",
        "import numpy as np"
      ]
    },
    {
      "cell_type": "code",
      "source": [
        "#creating series from Python Lists\n",
        "series = pd.Series([4,5,6])\n",
        "series = pd.Series([4.5,5.7,6.8])\n",
        "series = pd.Series([True,False,True])\n",
        "series = pd.Series([\"1\",\"2\",\"3\"])\n",
        "series = pd.Series([4,5,6,'Name'])\n",
        "series = pd.Series([1,2,3, None,np.nan])\n",
        "series = pd.Series([1,2,3, None,np.nan,\"name\"])\n",
        "series = pd.Series(([1,2,3]),dtype=np.float32)\n",
        "print(series)"
      ],
      "metadata": {
        "colab": {
          "base_uri": "https://localhost:8080/"
        },
        "id": "CI8sdTtaNrWY",
        "outputId": "0de28c73-ae4a-4876-dd7e-3294f9680eb3"
      },
      "execution_count": 10,
      "outputs": [
        {
          "output_type": "stream",
          "name": "stdout",
          "text": [
            "0    1.0\n",
            "1    2.0\n",
            "2    3.0\n",
            "dtype: float32\n"
          ]
        }
      ]
    },
    {
      "cell_type": "code",
      "source": [
        "#creating series from Python Dictionaries\n",
        "series = pd.Series({'a':1,'b':2,'c':3})\n",
        "series = pd.Series({'a':True,'b':False,'c':False})\n",
        "series = pd.Series({'a':1.5,'b':2.7,'c':3.2})\n",
        "series = pd.Series({'a':'1','b':'2','c':'3'})\n",
        "series = pd.Series([1,2,3], index=['a','b','c'])\n",
        "series = pd.Series(10,index=[0,1,2,3,4])\n",
        "series = pd.Series(10, index = [\"a\",\"b\",\"c\"])\n",
        "#Numpy\n",
        "series = pd.Series(np.array([1,2,3]))\n",
        "numpy_series = series.to_numpy()\n",
        "print(type(series))\n",
        "print(type(numpy_series))\n",
        "print(numpy_series)"
      ],
      "metadata": {
        "colab": {
          "base_uri": "https://localhost:8080/"
        },
        "id": "yzybqYamOEeE",
        "outputId": "98343eee-ec8e-48ad-f834-580ce5e4453c"
      },
      "execution_count": 20,
      "outputs": [
        {
          "output_type": "stream",
          "name": "stdout",
          "text": [
            "<class 'pandas.core.series.Series'>\n",
            "<class 'numpy.ndarray'>\n",
            "[1 2 3]\n"
          ]
        }
      ]
    },
    {
      "cell_type": "code",
      "source": [
        "#Data ranges and DateTime dtype\n",
        "dates = pd.date_range('20200301', periods=10)\n",
        "dates = pd.date_range('20200301', periods=10,freq='4H')\n",
        "dates = pd.date_range('20200301', '20200302',periods=10)\n",
        "\n",
        "dates = pd.date_range('20200301', periods=5)\n",
        "series = pd.Series(([1,2,3,4,5]), index = dates)\n",
        "\n",
        "date_series = pd.Series(dates)\n",
        "days = date_series.dt.year\n",
        "print(days)"
      ],
      "metadata": {
        "colab": {
          "base_uri": "https://localhost:8080/"
        },
        "id": "jmxfrUuhQg3o",
        "outputId": "15ea23ad-b6c5-4cb1-b410-c1089a569bcd"
      },
      "execution_count": 32,
      "outputs": [
        {
          "output_type": "stream",
          "name": "stdout",
          "text": [
            "0    2020\n",
            "1    2020\n",
            "2    2020\n",
            "3    2020\n",
            "4    2020\n",
            "dtype: int64\n"
          ]
        }
      ]
    },
    {
      "cell_type": "code",
      "source": [
        "#Getting single elements from Series\n",
        "series = pd.Series([1,2,3,4,5], index=['a','b','c','d','e'])\n",
        "\n",
        "first = series[0]\n",
        "first = series['a']\n",
        "last = series[4]\n",
        "last = series['e']\n",
        "last = series[-1]\n",
        "\n",
        "tenth = series.get(9)\n",
        "tenth = series.get('j', default = 0)\n",
        "print(tenth)\n",
        "\n",
        "#print(type(last))\n",
        "#print(first)\n",
        "#print(last)"
      ],
      "metadata": {
        "colab": {
          "base_uri": "https://localhost:8080/"
        },
        "id": "qWiC7ALvSpv4",
        "outputId": "8c44b232-cc12-46c5-f958-1817951f1e0d"
      },
      "execution_count": 47,
      "outputs": [
        {
          "output_type": "stream",
          "name": "stdout",
          "text": [
            "0\n"
          ]
        }
      ]
    },
    {
      "cell_type": "code",
      "source": [
        "#Getting elements from Series via slicing\n",
        "series = pd.Series([1,2,3,4,5], index=['a','b','c','d','e'])\n",
        "\n",
        "last = series[-1:]\n",
        "three = series[:3]\n",
        "three = series[2:]\n",
        "three = series[1:4]\n",
        "three = series[[0,1,2]]\n",
        "three = series[['a','b','c']]\n",
        "shuffled = series [[4,1,3,0,2]]\n",
        "shuffled = series [['b','a','e','c','d',]]\n",
        "gt3 = series[series > 3]\n",
        "gt3 = series[series > 6]\n",
        "\n",
        "indexes = series.index\n",
        "values = series.values\n",
        "pandas_array = series.array\n",
        "\n",
        "print(pandas_array)"
      ],
      "metadata": {
        "colab": {
          "base_uri": "https://localhost:8080/"
        },
        "id": "bm3FsrNrU6I2",
        "outputId": "e121a8d2-3d07-42c3-dca7-744a7bed4982"
      },
      "execution_count": 63,
      "outputs": [
        {
          "output_type": "stream",
          "name": "stdout",
          "text": [
            "<PandasArray>\n",
            "[1, 2, 3, 4, 5]\n",
            "Length: 5, dtype: int64\n"
          ]
        }
      ]
    },
    {
      "cell_type": "code",
      "source": [
        "#Getting properties of Series\n",
        "series = pd.Series([1,2,3,4,5,4,2,3,1,1])\n",
        "\n",
        "series_count = series.count()\n",
        "series_max = series.max()\n",
        "series_min = series.min()\n",
        "description = series.describe()\n",
        "series_sum = series.sum()\n",
        "n_largest = series.nlargest(2)\n",
        "n_smallest = series.nsmallest(2)\n",
        "\n",
        "max_index = series.idxmax()\n",
        "min_index = series.idxmin()\n",
        "\n",
        "histogram = series.value_counts()\n",
        "\n",
        "series = pd.Series(['a','b','c'])\n",
        "description = series.describe()\n",
        "series = pd.Series([True, False, False])\n",
        "description = series.describe()\n",
        "all_true = series.all()\n",
        "any_true = series.any()\n",
        "\n",
        "print(all_true)\n",
        "print(any_true)"
      ],
      "metadata": {
        "colab": {
          "base_uri": "https://localhost:8080/"
        },
        "id": "gUAjF1HSWtug",
        "outputId": "d83e51f6-f1b6-4c73-a3b5-d338cb8dbfaf"
      },
      "execution_count": 76,
      "outputs": [
        {
          "output_type": "stream",
          "name": "stdout",
          "text": [
            "False\n",
            "True\n"
          ]
        }
      ]
    },
    {
      "cell_type": "code",
      "source": [
        "#Series Modification\n",
        "\n",
        "series = pd.Series({'a':1, 'b':2, 'c':3, 'd':4, 'e':5})\n",
        "#Adding\n",
        "series['f'] = 6\n",
        "new_series = series.append(pd.Series({'g':7,'h':8,'i':9}))\n",
        "\n",
        "#Removing\n",
        "del series['a']\n",
        "new_series = series.drop(['e','f'])\n",
        "popped = series.pop('b')\n",
        "print(series)\n",
        "print(popped)"
      ],
      "metadata": {
        "colab": {
          "base_uri": "https://localhost:8080/"
        },
        "id": "PggpEN0bZUYC",
        "outputId": "48652894-ae70-47c7-c42c-7e0f3ce2f453"
      },
      "execution_count": 87,
      "outputs": [
        {
          "output_type": "stream",
          "name": "stdout",
          "text": [
            "c    3\n",
            "d    4\n",
            "e    5\n",
            "f    6\n",
            "dtype: int64\n",
            "2\n"
          ]
        },
        {
          "output_type": "stream",
          "name": "stderr",
          "text": [
            "<ipython-input-87-34101085694e>:6: FutureWarning: The series.append method is deprecated and will be removed from pandas in a future version. Use pandas.concat instead.\n",
            "  new_series = series.append(pd.Series({'g':7,'h':8,'i':9}))\n"
          ]
        }
      ]
    },
    {
      "cell_type": "code",
      "source": [
        "#Series Modification\n",
        "series = pd.Series({'a':1, 'b':2, 'c':3, 'd':4, 'e':5})\n",
        "#Modifying elements\n",
        "series[0] = 0\n",
        "series['e'] = 6\n",
        "series[:3] = 10\n",
        "series[:3] = [11,12,13]\n",
        "series = series.rename('Series1')\n",
        "series = series.rename(str.upper)\n",
        "series = series.reindex(['B', 'A', 'E', 'C', 'D'])\n",
        "series['A'] = 'fasfaf'\n",
        "series = series.reindex(['B', 'A', 'E', 'C', 'D', 'F', 'Z'])\n",
        "\n",
        "print(series)"
      ],
      "metadata": {
        "colab": {
          "base_uri": "https://localhost:8080/"
        },
        "id": "rXMlfZ9XcQNj",
        "outputId": "d5698c7e-2120-43c0-9e2a-2e10e411807e"
      },
      "execution_count": 99,
      "outputs": [
        {
          "output_type": "stream",
          "name": "stdout",
          "text": [
            "B        12\n",
            "A    fasfaf\n",
            "E         6\n",
            "C        13\n",
            "D         4\n",
            "F       NaN\n",
            "Z       NaN\n",
            "Name: Series1, dtype: object\n"
          ]
        }
      ]
    },
    {
      "cell_type": "code",
      "source": [],
      "metadata": {
        "id": "qfS71U5Vd3v6"
      },
      "execution_count": null,
      "outputs": []
    }
  ]
}