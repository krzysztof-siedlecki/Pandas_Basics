{
  "nbformat": 4,
  "nbformat_minor": 0,
  "metadata": {
    "colab": {
      "provenance": [],
      "authorship_tag": "ABX9TyOsAYnGnElRw7sBdecf6Vg4",
      "include_colab_link": true
    },
    "kernelspec": {
      "name": "python3",
      "display_name": "Python 3"
    },
    "language_info": {
      "name": "python"
    }
  },
  "cells": [
    {
      "cell_type": "markdown",
      "metadata": {
        "id": "view-in-github",
        "colab_type": "text"
      },
      "source": [
        "<a href=\"https://colab.research.google.com/github/krzysztof-siedlecki/Pandas_Basics/blob/main/Pandas_Code.ipynb\" target=\"_parent\"><img src=\"https://colab.research.google.com/assets/colab-badge.svg\" alt=\"Open In Colab\"/></a>"
      ]
    },
    {
      "cell_type": "code",
      "execution_count": 1,
      "metadata": {
        "id": "_gehzgeeNggc"
      },
      "outputs": [],
      "source": [
        "import pandas as pd\n",
        "import numpy as np"
      ]
    },
    {
      "cell_type": "code",
      "source": [
        "#creating series from Python Lists\n",
        "series = pd.Series([4,5,6])\n",
        "series = pd.Series([4.5,5.7,6.8])\n",
        "series = pd.Series([True,False,True])\n",
        "series = pd.Series([\"1\",\"2\",\"3\"])\n",
        "series = pd.Series([4,5,6,'Name'])\n",
        "series = pd.Series([1,2,3, None,np.nan])\n",
        "series = pd.Series([1,2,3, None,np.nan,\"name\"])\n",
        "series = pd.Series(([1,2,3]),dtype=np.float32)\n",
        "print(series)"
      ],
      "metadata": {
        "colab": {
          "base_uri": "https://localhost:8080/"
        },
        "id": "CI8sdTtaNrWY",
        "outputId": "0de28c73-ae4a-4876-dd7e-3294f9680eb3"
      },
      "execution_count": null,
      "outputs": [
        {
          "output_type": "stream",
          "name": "stdout",
          "text": [
            "0    1.0\n",
            "1    2.0\n",
            "2    3.0\n",
            "dtype: float32\n"
          ]
        }
      ]
    },
    {
      "cell_type": "code",
      "source": [
        "#creating series from Python Dictionaries\n",
        "series = pd.Series({'a':1,'b':2,'c':3})\n",
        "series = pd.Series({'a':True,'b':False,'c':False})\n",
        "series = pd.Series({'a':1.5,'b':2.7,'c':3.2})\n",
        "series = pd.Series({'a':'1','b':'2','c':'3'})\n",
        "series = pd.Series([1,2,3], index=['a','b','c'])\n",
        "series = pd.Series(10,index=[0,1,2,3,4])\n",
        "series = pd.Series(10, index = [\"a\",\"b\",\"c\"])\n",
        "#Numpy\n",
        "series = pd.Series(np.array([1,2,3]))\n",
        "numpy_series = series.to_numpy()\n",
        "print(type(series))\n",
        "print(type(numpy_series))\n",
        "print(numpy_series)"
      ],
      "metadata": {
        "colab": {
          "base_uri": "https://localhost:8080/"
        },
        "id": "yzybqYamOEeE",
        "outputId": "98343eee-ec8e-48ad-f834-580ce5e4453c"
      },
      "execution_count": null,
      "outputs": [
        {
          "output_type": "stream",
          "name": "stdout",
          "text": [
            "<class 'pandas.core.series.Series'>\n",
            "<class 'numpy.ndarray'>\n",
            "[1 2 3]\n"
          ]
        }
      ]
    },
    {
      "cell_type": "code",
      "source": [
        "#Data ranges and DateTime dtype\n",
        "dates = pd.date_range('20200301', periods=10)\n",
        "dates = pd.date_range('20200301', periods=10,freq='4H')\n",
        "dates = pd.date_range('20200301', '20200302',periods=10)\n",
        "\n",
        "dates = pd.date_range('20200301', periods=5)\n",
        "series = pd.Series(([1,2,3,4,5]), index = dates)\n",
        "\n",
        "date_series = pd.Series(dates)\n",
        "days = date_series.dt.year\n",
        "print(days)"
      ],
      "metadata": {
        "colab": {
          "base_uri": "https://localhost:8080/"
        },
        "id": "jmxfrUuhQg3o",
        "outputId": "15ea23ad-b6c5-4cb1-b410-c1089a569bcd"
      },
      "execution_count": null,
      "outputs": [
        {
          "output_type": "stream",
          "name": "stdout",
          "text": [
            "0    2020\n",
            "1    2020\n",
            "2    2020\n",
            "3    2020\n",
            "4    2020\n",
            "dtype: int64\n"
          ]
        }
      ]
    },
    {
      "cell_type": "code",
      "source": [
        "#Getting single elements from Series\n",
        "series = pd.Series([1,2,3,4,5], index=['a','b','c','d','e'])\n",
        "\n",
        "first = series[0]\n",
        "first = series['a']\n",
        "last = series[4]\n",
        "last = series['e']\n",
        "last = series[-1]\n",
        "\n",
        "tenth = series.get(9)\n",
        "tenth = series.get('j', default = 0)\n",
        "print(tenth)\n",
        "\n",
        "#print(type(last))\n",
        "#print(first)\n",
        "#print(last)"
      ],
      "metadata": {
        "colab": {
          "base_uri": "https://localhost:8080/"
        },
        "id": "qWiC7ALvSpv4",
        "outputId": "8c44b232-cc12-46c5-f958-1817951f1e0d"
      },
      "execution_count": null,
      "outputs": [
        {
          "output_type": "stream",
          "name": "stdout",
          "text": [
            "0\n"
          ]
        }
      ]
    },
    {
      "cell_type": "code",
      "source": [
        "#Getting elements from Series via slicing\n",
        "series = pd.Series([1,2,3,4,5], index=['a','b','c','d','e'])\n",
        "\n",
        "last = series[-1:]\n",
        "three = series[:3]\n",
        "three = series[2:]\n",
        "three = series[1:4]\n",
        "three = series[[0,1,2]]\n",
        "three = series[['a','b','c']]\n",
        "shuffled = series [[4,1,3,0,2]]\n",
        "shuffled = series [['b','a','e','c','d',]]\n",
        "gt3 = series[series > 3]\n",
        "gt3 = series[series > 6]\n",
        "\n",
        "indexes = series.index\n",
        "values = series.values\n",
        "pandas_array = series.array\n",
        "\n",
        "print(pandas_array)"
      ],
      "metadata": {
        "colab": {
          "base_uri": "https://localhost:8080/"
        },
        "id": "bm3FsrNrU6I2",
        "outputId": "e121a8d2-3d07-42c3-dca7-744a7bed4982"
      },
      "execution_count": null,
      "outputs": [
        {
          "output_type": "stream",
          "name": "stdout",
          "text": [
            "<PandasArray>\n",
            "[1, 2, 3, 4, 5]\n",
            "Length: 5, dtype: int64\n"
          ]
        }
      ]
    },
    {
      "cell_type": "code",
      "source": [
        "#Getting properties of Series\n",
        "series = pd.Series([1,2,3,4,5,4,2,3,1,1])\n",
        "\n",
        "series_count = series.count()\n",
        "series_max = series.max()\n",
        "series_min = series.min()\n",
        "description = series.describe()\n",
        "series_sum = series.sum()\n",
        "n_largest = series.nlargest(2)\n",
        "n_smallest = series.nsmallest(2)\n",
        "\n",
        "max_index = series.idxmax()\n",
        "min_index = series.idxmin()\n",
        "\n",
        "histogram = series.value_counts()\n",
        "\n",
        "series = pd.Series(['a','b','c'])\n",
        "description = series.describe()\n",
        "series = pd.Series([True, False, False])\n",
        "description = series.describe()\n",
        "all_true = series.all()\n",
        "any_true = series.any()\n",
        "\n",
        "print(all_true)\n",
        "print(any_true)"
      ],
      "metadata": {
        "colab": {
          "base_uri": "https://localhost:8080/"
        },
        "id": "gUAjF1HSWtug",
        "outputId": "d83e51f6-f1b6-4c73-a3b5-d338cb8dbfaf"
      },
      "execution_count": null,
      "outputs": [
        {
          "output_type": "stream",
          "name": "stdout",
          "text": [
            "False\n",
            "True\n"
          ]
        }
      ]
    },
    {
      "cell_type": "code",
      "source": [
        "#Series Modification\n",
        "\n",
        "series = pd.Series({'a':1, 'b':2, 'c':3, 'd':4, 'e':5})\n",
        "#Adding\n",
        "series['f'] = 6\n",
        "new_series = series.append(pd.Series({'g':7,'h':8,'i':9}))\n",
        "\n",
        "#Removing\n",
        "del series['a']\n",
        "new_series = series.drop(['e','f'])\n",
        "popped = series.pop('b')\n",
        "print(series)\n",
        "print(popped)"
      ],
      "metadata": {
        "colab": {
          "base_uri": "https://localhost:8080/"
        },
        "id": "PggpEN0bZUYC",
        "outputId": "48652894-ae70-47c7-c42c-7e0f3ce2f453"
      },
      "execution_count": null,
      "outputs": [
        {
          "output_type": "stream",
          "name": "stdout",
          "text": [
            "c    3\n",
            "d    4\n",
            "e    5\n",
            "f    6\n",
            "dtype: int64\n",
            "2\n"
          ]
        },
        {
          "output_type": "stream",
          "name": "stderr",
          "text": [
            "<ipython-input-87-34101085694e>:6: FutureWarning: The series.append method is deprecated and will be removed from pandas in a future version. Use pandas.concat instead.\n",
            "  new_series = series.append(pd.Series({'g':7,'h':8,'i':9}))\n"
          ]
        }
      ]
    },
    {
      "cell_type": "code",
      "source": [
        "#Series Modification\n",
        "series = pd.Series({'a':1, 'b':2, 'c':3, 'd':4, 'e':5})\n",
        "#Modifying elements\n",
        "series[0] = 0\n",
        "series['e'] = 6\n",
        "series[:3] = 10\n",
        "series[:3] = [11,12,13]\n",
        "series = series.rename('Series1')\n",
        "series = series.rename(str.upper)\n",
        "series = series.reindex(['B', 'A', 'E', 'C', 'D'])\n",
        "series['A'] = 'fasfaf'\n",
        "series = series.reindex(['B', 'A', 'E', 'C', 'D', 'F', 'Z'])\n",
        "\n",
        "print(series)"
      ],
      "metadata": {
        "colab": {
          "base_uri": "https://localhost:8080/"
        },
        "id": "rXMlfZ9XcQNj",
        "outputId": "d5698c7e-2120-43c0-9e2a-2e10e411807e"
      },
      "execution_count": null,
      "outputs": [
        {
          "output_type": "stream",
          "name": "stdout",
          "text": [
            "B        12\n",
            "A    fasfaf\n",
            "E         6\n",
            "C        13\n",
            "D         4\n",
            "F       NaN\n",
            "Z       NaN\n",
            "Name: Series1, dtype: object\n"
          ]
        }
      ]
    },
    {
      "cell_type": "code",
      "source": [
        "#Operation on Series\n",
        "\n",
        "series_1 = pd.Series([1,2,3,4,5,np.nan])\n",
        "series_2 = pd.Series([5,2,4,1,np.nan,3])\n",
        "#Comparisons\n",
        "comp = series_1 > series_2\n",
        "comp = series_1.eq(series_2,fill_value=3)\n",
        "comp = series_1.equals(series_2)\n",
        "comp = series_1[0] > series_2[3]\n",
        "comp = series_1 >= 5\n",
        "\n",
        "#Iteration\n",
        "is_in = 4 in series_1\n",
        "#for key, value in series_1.items():\n",
        "#  print(key)\n",
        "#  print(value)\n",
        "\n",
        "for value in series_1:\n",
        "  print(value)"
      ],
      "metadata": {
        "id": "qfS71U5Vd3v6",
        "outputId": "b388c41a-aaab-4e57-909f-29748a029426",
        "colab": {
          "base_uri": "https://localhost:8080/"
        }
      },
      "execution_count": null,
      "outputs": [
        {
          "output_type": "stream",
          "name": "stdout",
          "text": [
            "1.0\n",
            "2.0\n",
            "3.0\n",
            "4.0\n",
            "5.0\n",
            "nan\n"
          ]
        }
      ]
    },
    {
      "cell_type": "code",
      "source": [
        "#Creating DataFrame\n",
        "\n",
        "df = pd.DataFrame([1,2,3], dtype=np.float16)\n",
        "df = pd.DataFrame(['a','b','c'])\n",
        "df = pd.DataFrame([False,True,False])\n",
        "df = pd.DataFrame([[1,2,3],[4,5,6],[7,8,9]])\n",
        "df = pd.DataFrame([[1,2,3,4],[5,6],[7,8,9]])\n",
        "\n",
        "df = pd.DataFrame(5, index =[0,1], columns=[0,1,2])\n",
        "\n",
        "print(df)\n"
      ],
      "metadata": {
        "id": "aCabjSGl3Kdv",
        "outputId": "5335aaeb-dc6e-41cd-d902-9601dd15cb39",
        "colab": {
          "base_uri": "https://localhost:8080/"
        }
      },
      "execution_count": null,
      "outputs": [
        {
          "output_type": "stream",
          "name": "stdout",
          "text": [
            "   0  1  2\n",
            "0  5  5  5\n",
            "1  5  5  5\n"
          ]
        }
      ]
    },
    {
      "cell_type": "code",
      "source": [
        "#Creating DataFrames with Dictionaries and Series\n",
        "df = pd.DataFrame(5, index =['a','b'], columns=['col1', 'col2', 'col3'])\n",
        "df = pd.DataFrame([1,2,3], index=['a','b','c'])\n",
        "df = pd.DataFrame([[1,2],[3,4],[5,6]], index=['row1','row2','row3'],columns=['a','b'])\n",
        "\n",
        "#Dictionaries\n",
        "df = pd.DataFrame({'col1': [1,2,3], 'col2':[3,4,5]}, index=['row1','row2','row3'])\n",
        "df = pd.DataFrame({'col1': {'row1':1, 'row2':2, 'row3':3}, 'col2':{'row1':4, 'row2':5, 'row3':6}})\n",
        "df = pd.DataFrame({'col1': {'row1':1, 'row2':2, 'row3':3}, 'col2':{'row4':4, 'row5':5, 'row6':6}})\n",
        "df = pd.DataFrame({'col1': pd.Series([1,2,3]), 'col2': pd.Series([4,5,6])})\n",
        "\n",
        "\n",
        "print(df)"
      ],
      "metadata": {
        "id": "hwl3hC0b8iXc",
        "outputId": "ff676325-4a04-4f36-cc7a-9c7d35f60269",
        "colab": {
          "base_uri": "https://localhost:8080/"
        }
      },
      "execution_count": null,
      "outputs": [
        {
          "output_type": "stream",
          "name": "stdout",
          "text": [
            "   col1  col2\n",
            "0     1     4\n",
            "1     2     5\n",
            "2     3     6\n"
          ]
        }
      ]
    },
    {
      "cell_type": "code",
      "source": [
        "#Getting Rows and Columns from DataFrames\n",
        "df = pd.DataFrame({'col1': {'row1':1, 'row2':2, 'row3':3}, 'col2':{'row1':4, 'row3':5, 'row4':6,},'col3':{'row1':10, 'row2':8, 'row4':9}})\n",
        "print(df)\n",
        "print(\"---------------\")\n",
        "#Colums\n",
        "first_col = df['col1']\n",
        "first_col = df.col1\n",
        "first_col = df.get('col1', default=pd.Series([1,2,3]))\n",
        "#Rows\n",
        "#iloc position index\n",
        "#loc row label\n",
        "first_row = df.loc['row1']\n",
        "first_row = df.iloc[0]\n",
        "#Single elements\n",
        "first = df['col1'].loc['row1']\n",
        "first = df['col1'].iloc[0]\n",
        "first = df.loc['row1','col1']\n",
        "first = df.iloc[0,0]\n",
        "\n",
        "print(first)"
      ],
      "metadata": {
        "id": "eF82rBdS_XGw",
        "outputId": "74c055d4-8354-4043-f615-65d27bca22f3",
        "colab": {
          "base_uri": "https://localhost:8080/"
        }
      },
      "execution_count": null,
      "outputs": [
        {
          "output_type": "stream",
          "name": "stdout",
          "text": [
            "      col1  col2  col3\n",
            "row1   1.0   4.0  10.0\n",
            "row2   2.0   NaN   8.0\n",
            "row3   3.0   5.0   NaN\n",
            "row4   NaN   6.0   9.0\n",
            "---------------\n",
            "1.0\n"
          ]
        }
      ]
    },
    {
      "cell_type": "code",
      "source": [
        "#Slicing DataFrames\n",
        "df = pd.DataFrame({'col1': {'row1':1, 'row2':2, 'row3':3}, 'col2':{'row1':4, 'row3':5, 'row4':6,},'col3':{'row1':10, 'row2':8, 'row4':9}})\n",
        "print(df)\n",
        "print(\"---------------\")\n",
        "\n",
        "#Columns slicing\n",
        "cols = df[['col1','col2']]\n",
        "cols = df[['col3','col1','col2']]\n",
        "#Rows slicing\n",
        "rows = df.iloc[[0,1]]\n",
        "rows = df.iloc[[2,3,1,0]]\n",
        "rows = df.loc[['row1','row2']]\n",
        "rows = df.loc[['row2','row4','row1','row3']]\n",
        "rows = df.iloc[:2]\n",
        "rows = df.iloc[1:3]\n",
        "rows = df.iloc[-2:]\n",
        "#Both\n",
        "rows = df.iloc[::2]\n",
        "rows = df.iloc[:2,:2]\n",
        "#Booleans\n",
        "rows = df[df['col1']>1]\n",
        "rows = df[df['col2']>=5]\n",
        "#First/last n rows\n",
        "n_rows = df.head(2)\n",
        "n_rows = df.tail(2)\n",
        "print(n_rows)"
      ],
      "metadata": {
        "id": "zMKBGVAkG9WQ",
        "outputId": "98fb7b1b-235e-4465-d0a8-68903d034ff5",
        "colab": {
          "base_uri": "https://localhost:8080/"
        }
      },
      "execution_count": null,
      "outputs": [
        {
          "output_type": "stream",
          "name": "stdout",
          "text": [
            "      col1  col2  col3\n",
            "row1   1.0   4.0  10.0\n",
            "row2   2.0   NaN   8.0\n",
            "row3   3.0   5.0   NaN\n",
            "row4   NaN   6.0   9.0\n",
            "---------------\n",
            "      col1  col2  col3\n",
            "row3   3.0   5.0   NaN\n",
            "row4   NaN   6.0   9.0\n"
          ]
        }
      ]
    },
    {
      "cell_type": "code",
      "source": [
        "#Getting properties of DataFrame\n",
        "df = pd.DataFrame({'col1': {'row1':1, 'row2':2, 'row3':3}, 'col2':{'row1':4, 'row3':5, 'row4':6,},'col3':{'row1':10, 'row2':8, 'row4':9}})\n",
        "print(df)\n",
        "print(\"---------------\")\n",
        "count = df.count() # defult to axis=0, column coutns\n",
        "count = df.count(axis=1)\n",
        "m = df.min()\n",
        "m = df.max(axis=1)\n",
        "descr = df.describe()\n",
        "\n",
        "n_most = df.nlargest(2,['col2'])\n",
        "n_most = df.nlargest(2,['col2','col3'])\n",
        "n_most = df.nsmallest(2,['col1'])\n",
        "idx = df.idxmax()\n",
        "idx = df.idxmax(axis=1)\n",
        "idx = df.idxmin()\n",
        "\n",
        "idxs = df.index #it is an onject\n",
        "cols = df.columns #also an object\n",
        "dtypes = df.dtypes\n",
        "\n",
        "#hist = df.hist()\n",
        "hist = df.hist(column=['col1','col2'])"
      ],
      "metadata": {
        "id": "f62E8ykgKUAA",
        "outputId": "31ddc872-d61f-472a-9e59-04bbdcf0c1b1",
        "colab": {
          "base_uri": "https://localhost:8080/",
          "height": 556
        }
      },
      "execution_count": 25,
      "outputs": [
        {
          "output_type": "stream",
          "name": "stdout",
          "text": [
            "      col1  col2  col3\n",
            "row1   1.0   4.0  10.0\n",
            "row2   2.0   NaN   8.0\n",
            "row3   3.0   5.0   NaN\n",
            "row4   NaN   6.0   9.0\n",
            "---------------\n"
          ]
        },
        {
          "output_type": "display_data",
          "data": {
            "text/plain": [
              "<Figure size 640x480 with 2 Axes>"
            ],
            "image/png": "[encoded data removed]"
          },
          "metadata": {}
        }
      ]
    },
    {
      "cell_type": "code",
      "source": [
        " #DataFrames operations\n",
        "df = pd.DataFrame({'col3': {'row1':1, 'row2':2, 'row3':3}, 'col1':{'row1':4, 'row3':5, 'row4':6,},'col2':{'row1':10, 'row2':8, 'row4':9}})\n",
        "print(df)\n",
        "print(\"---------------\")\n",
        "\n",
        "# Arithmetic\n",
        "result = df + 5\n",
        "result = df ** 2\n",
        "result = df.add(5, fill_value=0)\n",
        "\n",
        "#Applying functions\n",
        "def f(x):\n",
        "  return (2*x) + 5\n",
        "result = df.apply(f)\n",
        "result = df.transform(np.square)\n",
        "result = df.transform('square')\n",
        "result = df.transform(f)\n",
        "result = df.transform(lambda x: x**2)\n",
        "result = df.transform([np.square, np.log]) #if we want to campare two different operation\n",
        "result = df.transform({'col1':np.square, 'col2':np.log})\n",
        "#Transpose\n",
        "result = df.transpose()\n",
        "#Type casting\n",
        "result = df.astype('object')\n",
        "result = df.astype(np.float16)\n",
        "#Sorting\n",
        "result = df.sort_index(axis=0, ascending=False)\n",
        "result = df.sort_index(axis=1, ascending=False)\n",
        "result = df.sort_values('col3', axis=0, ascending=False)\n",
        "result = df.sort_values('row2', axis=1, ascending=False)\n",
        "\n",
        "\n",
        "print(result)"
      ],
      "metadata": {
        "id": "U6-sA3yEtHYR",
        "outputId": "ae5032d4-a2c0-40d0-f02b-e0d0700961b8",
        "colab": {
          "base_uri": "https://localhost:8080/"
        }
      },
      "execution_count": 50,
      "outputs": [
        {
          "output_type": "stream",
          "name": "stdout",
          "text": [
            "      col3  col1  col2\n",
            "row1   1.0   4.0  10.0\n",
            "row2   2.0   NaN   8.0\n",
            "row3   3.0   5.0   NaN\n",
            "row4   NaN   6.0   9.0\n",
            "---------------\n",
            "      col2  col3  col1\n",
            "row1  10.0   1.0   4.0\n",
            "row2   8.0   2.0   NaN\n",
            "row3   NaN   3.0   5.0\n",
            "row4   9.0   NaN   6.0\n"
          ]
        }
      ]
    },
    {
      "cell_type": "code",
      "source": [],
      "metadata": {
        "id": "w6qIGdAOyYtV"
      },
      "execution_count": null,
      "outputs": []
    }
  ]
}